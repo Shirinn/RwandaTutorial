{
 "metadata": {
  "name": "Rwanda "
 },
 "nbformat": 3,
 "nbformat_minor": 0,
 "worksheets": [
  {
   "cells": [
    {
     "cell_type": "markdown",
     "metadata": {},
     "source": [
      "##Python for Data Analysis Case Study\n",
      "### The Rwandan Tragedy"
     ]
    },
    {
     "cell_type": "markdown",
     "metadata": {},
     "source": [
      "####Step 0: Setup"
     ]
    },
    {
     "cell_type": "code",
     "collapsed": false,
     "input": [
      "# import pandas library\n",
      "import pandas as pd"
     ],
     "language": "python",
     "metadata": {},
     "outputs": [],
     "prompt_number": 1
    },
    {
     "cell_type": "markdown",
     "metadata": {},
     "source": [
      "#### Step 1:  Import Dataset"
     ]
    },
    {
     "cell_type": "code",
     "collapsed": false,
     "input": [
      "# import life expectancy dataset (1960-2011) Source: World Bank\n",
      "# first column in data set is country code (e.g. AFG)\n",
      "# set row index to be first column (index_col=0)\n",
      "\n",
      "lexp = pd.read_csv('data/lexp.csv', index_col=0)"
     ],
     "language": "python",
     "metadata": {},
     "outputs": [],
     "prompt_number": 2
    },
    {
     "cell_type": "code",
     "collapsed": false,
     "input": [
      "# verify data loaded correctly\n",
      "# slide row and column subsets using row and column indices\n",
      "\n",
      "lexp.ix[0:11, '1990':'1998']"
     ],
     "language": "python",
     "metadata": {},
     "outputs": [
      {
       "html": [
        "<div style=\"max-height:1000px;max-width:1500px;overflow:auto;\">\n",
        "<table border=\"1\" class=\"dataframe\">\n",
        "  <thead>\n",
        "    <tr style=\"text-align: right;\">\n",
        "      <th></th>\n",
        "      <th>1990</th>\n",
        "      <th>1991</th>\n",
        "      <th>1992</th>\n",
        "      <th>1993</th>\n",
        "      <th>1994</th>\n",
        "      <th>1995</th>\n",
        "      <th>1996</th>\n",
        "      <th>1997</th>\n",
        "      <th>1998</th>\n",
        "    </tr>\n",
        "    <tr>\n",
        "      <th>Country</th>\n",
        "      <th></th>\n",
        "      <th></th>\n",
        "      <th></th>\n",
        "      <th></th>\n",
        "      <th></th>\n",
        "      <th></th>\n",
        "      <th></th>\n",
        "      <th></th>\n",
        "      <th></th>\n",
        "    </tr>\n",
        "  </thead>\n",
        "  <tbody>\n",
        "    <tr>\n",
        "      <th>AFG</th>\n",
        "      <td> 42.3</td>\n",
        "      <td> 43.0</td>\n",
        "      <td> 42.9</td>\n",
        "      <td> 43.2</td>\n",
        "      <td> 43.5</td>\n",
        "      <td> 43.8</td>\n",
        "      <td> 44.1</td>\n",
        "      <td> 44.4</td>\n",
        "      <td> 44.7</td>\n",
        "    </tr>\n",
        "    <tr>\n",
        "      <th>ALB</th>\n",
        "      <td> 71.6</td>\n",
        "      <td> 71.5</td>\n",
        "      <td> 71.5</td>\n",
        "      <td> 71.0</td>\n",
        "      <td> 71.6</td>\n",
        "      <td> 71.9</td>\n",
        "      <td> 72.2</td>\n",
        "      <td> 72.7</td>\n",
        "      <td> 73.2</td>\n",
        "    </tr>\n",
        "    <tr>\n",
        "      <th>DZA</th>\n",
        "      <td> 67.1</td>\n",
        "      <td> 67.4</td>\n",
        "      <td> 67.7</td>\n",
        "      <td> 68.0</td>\n",
        "      <td> 68.2</td>\n",
        "      <td> 68.5</td>\n",
        "      <td> 68.7</td>\n",
        "      <td> 69.0</td>\n",
        "      <td> 69.3</td>\n",
        "    </tr>\n",
        "    <tr>\n",
        "      <th>ASM</th>\n",
        "      <td>  NaN</td>\n",
        "      <td>  NaN</td>\n",
        "      <td>  NaN</td>\n",
        "      <td>  NaN</td>\n",
        "      <td>  NaN</td>\n",
        "      <td>  NaN</td>\n",
        "      <td>  NaN</td>\n",
        "      <td>  NaN</td>\n",
        "      <td>  NaN</td>\n",
        "    </tr>\n",
        "    <tr>\n",
        "      <th>AND</th>\n",
        "      <td>  NaN</td>\n",
        "      <td>  NaN</td>\n",
        "      <td>  NaN</td>\n",
        "      <td>  NaN</td>\n",
        "      <td>  NaN</td>\n",
        "      <td>  NaN</td>\n",
        "      <td>  NaN</td>\n",
        "      <td>  NaN</td>\n",
        "      <td>  NaN</td>\n",
        "    </tr>\n",
        "    <tr>\n",
        "      <th>AGO</th>\n",
        "      <td> 41.1</td>\n",
        "      <td> 41.2</td>\n",
        "      <td> 41.3</td>\n",
        "      <td> 41.5</td>\n",
        "      <td> 41.7</td>\n",
        "      <td> 42.1</td>\n",
        "      <td> 42.5</td>\n",
        "      <td> 43.1</td>\n",
        "      <td> 43.7</td>\n",
        "    </tr>\n",
        "    <tr>\n",
        "      <th>ATG</th>\n",
        "      <td>  NaN</td>\n",
        "      <td>  NaN</td>\n",
        "      <td> 74.2</td>\n",
        "      <td>  NaN</td>\n",
        "      <td>  NaN</td>\n",
        "      <td>  NaN</td>\n",
        "      <td>  NaN</td>\n",
        "      <td> 74.7</td>\n",
        "      <td>  NaN</td>\n",
        "    </tr>\n",
        "    <tr>\n",
        "      <th>ARG</th>\n",
        "      <td> 71.5</td>\n",
        "      <td> 71.7</td>\n",
        "      <td> 71.9</td>\n",
        "      <td> 72.0</td>\n",
        "      <td> 72.4</td>\n",
        "      <td> 72.6</td>\n",
        "      <td> 72.8</td>\n",
        "      <td> 73.1</td>\n",
        "      <td> 73.3</td>\n",
        "    </tr>\n",
        "    <tr>\n",
        "      <th>ARM</th>\n",
        "      <td> 68.0</td>\n",
        "      <td> 67.7</td>\n",
        "      <td> 67.8</td>\n",
        "      <td> 68.0</td>\n",
        "      <td> 68.3</td>\n",
        "      <td> 68.6</td>\n",
        "      <td> 69.0</td>\n",
        "      <td> 69.5</td>\n",
        "      <td> 70.0</td>\n",
        "    </tr>\n",
        "    <tr>\n",
        "      <th>ABW</th>\n",
        "      <td> 73.4</td>\n",
        "      <td> 73.4</td>\n",
        "      <td> 73.0</td>\n",
        "      <td> 73.5</td>\n",
        "      <td> 74.0</td>\n",
        "      <td> 73.6</td>\n",
        "      <td> 73.6</td>\n",
        "      <td> 73.6</td>\n",
        "      <td> 73.6</td>\n",
        "    </tr>\n",
        "    <tr>\n",
        "      <th>AUS</th>\n",
        "      <td> 77.0</td>\n",
        "      <td> 77.3</td>\n",
        "      <td> 77.4</td>\n",
        "      <td> 77.9</td>\n",
        "      <td> 77.9</td>\n",
        "      <td> 77.8</td>\n",
        "      <td> 78.1</td>\n",
        "      <td> 78.5</td>\n",
        "      <td> 78.6</td>\n",
        "    </tr>\n",
        "  </tbody>\n",
        "</table>\n",
        "</div>"
       ],
       "output_type": "pyout",
       "prompt_number": 5,
       "text": [
        "         1990  1991  1992  1993  1994  1995  1996  1997  1998\n",
        "Country                                                      \n",
        "AFG      42.3  43.0  42.9  43.2  43.5  43.8  44.1  44.4  44.7\n",
        "ALB      71.6  71.5  71.5  71.0  71.6  71.9  72.2  72.7  73.2\n",
        "DZA      67.1  67.4  67.7  68.0  68.2  68.5  68.7  69.0  69.3\n",
        "ASM       NaN   NaN   NaN   NaN   NaN   NaN   NaN   NaN   NaN\n",
        "AND       NaN   NaN   NaN   NaN   NaN   NaN   NaN   NaN   NaN\n",
        "AGO      41.1  41.2  41.3  41.5  41.7  42.1  42.5  43.1  43.7\n",
        "ATG       NaN   NaN  74.2   NaN   NaN   NaN   NaN  74.7   NaN\n",
        "ARG      71.5  71.7  71.9  72.0  72.4  72.6  72.8  73.1  73.3\n",
        "ARM      68.0  67.7  67.8  68.0  68.3  68.6  69.0  69.5  70.0\n",
        "ABW      73.4  73.4  73.0  73.5  74.0  73.6  73.6  73.6  73.6\n",
        "AUS      77.0  77.3  77.4  77.9  77.9  77.8  78.1  78.5  78.6"
       ]
      }
     ],
     "prompt_number": 5
    },
    {
     "cell_type": "markdown",
     "metadata": {},
     "source": [
      "####Step 2: Visualization"
     ]
    },
    {
     "cell_type": "code",
     "collapsed": false,
     "input": [
      "# plot boxplot of life expectancy for years 1960-2011\n",
      "\n",
      "lexp.boxplot(rot=90); show()\n",
      "\n"
     ],
     "language": "python",
     "metadata": {},
     "outputs": [],
     "prompt_number": 4
    },
    {
     "cell_type": "markdown",
     "metadata": {},
     "source": [
      "####Step 3: Identify Outlier"
     ]
    },
    {
     "cell_type": "code",
     "collapsed": true,
     "input": [
      "# find row index which has minimum value (i.e. life expectancy) for each column (years)\n",
      "\n",
      "lexp.idxmin(axis=0)\n"
     ],
     "language": "python",
     "metadata": {},
     "outputs": [
      {
       "output_type": "pyout",
       "prompt_number": 8,
       "text": [
        "1960    MLI\n",
        "1961    MLI\n",
        "1962    MLI\n",
        "1963    MLI\n",
        "1964    MLI\n",
        "1965    MLI\n",
        "1966    MLI\n",
        "1967    MLI\n",
        "1968    GIN\n",
        "1969    MLI\n",
        "1970    GIN\n",
        "1971    GIN\n",
        "1972    GIN\n",
        "1973    GIN\n",
        "1974    GIN\n",
        "1975    KHM\n",
        "1976    KHM\n",
        "1977    KHM\n",
        "1978    TLS\n",
        "1979    TLS\n",
        "1980    TLS\n",
        "1981    TLS\n",
        "1982    TLS\n",
        "1983    NER\n",
        "1984    NER\n",
        "1985    NER\n",
        "1986    NER\n",
        "1987    NER\n",
        "1988    SLE\n",
        "1989    RWA\n",
        "1990    RWA\n",
        "1991    RWA\n",
        "1992    RWA\n",
        "1993    RWA\n",
        "1994    RWA\n",
        "1995    RWA\n",
        "1996    RWA\n",
        "1997    RWA\n",
        "1998    SLE\n",
        "1999    SLE\n",
        "2000    SLE\n",
        "2001    SLE\n",
        "2002    SLE\n",
        "2003    SLE\n",
        "2004    ZWE\n",
        "2005    ZWE\n",
        "2006    LSO\n",
        "2007    LSO\n",
        "2008    LSO\n",
        "2009    LSO\n",
        "2010    LSO\n",
        "2011    SLE\n",
        "Length: 52"
       ]
      }
     ],
     "prompt_number": 8
    },
    {
     "cell_type": "markdown",
     "metadata": {},
     "source": [
      "#### Step 4: Visualization (Life Expectancy for Rwanda)"
     ]
    },
    {
     "cell_type": "code",
     "collapsed": false,
     "input": [
      "#plot life expectancy for rwanda\n",
      "lexp.ix['RWA'].plot(rot=90, color='red');show()\n"
     ],
     "language": "python",
     "metadata": {},
     "outputs": [],
     "prompt_number": 9
    },
    {
     "cell_type": "markdown",
     "metadata": {},
     "source": [
      "####Step 5: Test Hypotheses"
     ]
    },
    {
     "cell_type": "code",
     "collapsed": false,
     "input": [
      "# Rwandan Genocide \n",
      "# AIDS Epidemic KEN,UGA,MWI,MOZ,BDI,ZMB,ZWE \n",
      "# Civil War {BGD} War: {IRQ, IRQ}\n",
      "lexp.ix['BGD'].plot(rot=90, color='green')\n",
      "    \n"
     ],
     "language": "python",
     "metadata": {},
     "outputs": [
      {
       "output_type": "pyout",
       "prompt_number": 10,
       "text": [
        "<matplotlib.axes.AxesSubplot at 0x61ff150>"
       ]
      }
     ],
     "prompt_number": 10
    },
    {
     "cell_type": "markdown",
     "metadata": {},
     "source": [
      "#### Step 6: Import and Plot Mortality "
     ]
    },
    {
     "cell_type": "code",
     "collapsed": false,
     "input": [
      "#import mortality rate (under 5)\n",
      "mort = pd.read_csv('data/mort.csv', index_col=0)\n"
     ],
     "language": "python",
     "metadata": {},
     "outputs": [],
     "prompt_number": 11
    },
    {
     "cell_type": "code",
     "collapsed": false,
     "input": [
      "#plot boxplot\n",
      "mort.boxplot(rot=90); show()\n"
     ],
     "language": "python",
     "metadata": {},
     "outputs": [],
     "prompt_number": 12
    },
    {
     "cell_type": "code",
     "collapsed": false,
     "input": [
      "#plot mortality for RWA\n",
      "mort.ix['RWA'].plot(rot=90); show()\n",
      "\n"
     ],
     "language": "python",
     "metadata": {},
     "outputs": [
      {
       "ename": "NameError",
       "evalue": "name 'mort' is not defined",
       "output_type": "pyerr",
       "traceback": [
        "\u001b[0;31m---------------------------------------------------------------------------\u001b[0m\n\u001b[0;31mNameError\u001b[0m                                 Traceback (most recent call last)",
        "\u001b[0;32m<ipython-input-12-d5a55f3879cd>\u001b[0m in \u001b[0;36m<module>\u001b[0;34m()\u001b[0m\n\u001b[1;32m      1\u001b[0m \u001b[0;31m#plot mortality for RWA\u001b[0m\u001b[0;34m\u001b[0m\u001b[0;34m\u001b[0m\u001b[0m\n\u001b[0;32m----> 2\u001b[0;31m \u001b[0mmort\u001b[0m\u001b[0;34m.\u001b[0m\u001b[0mix\u001b[0m\u001b[0;34m[\u001b[0m\u001b[0;34m'RWA'\u001b[0m\u001b[0;34m]\u001b[0m\u001b[0;34m.\u001b[0m\u001b[0mplot\u001b[0m\u001b[0;34m(\u001b[0m\u001b[0mrot\u001b[0m\u001b[0;34m=\u001b[0m\u001b[0;36m90\u001b[0m\u001b[0;34m)\u001b[0m\u001b[0;34m;\u001b[0m \u001b[0mshow\u001b[0m\u001b[0;34m(\u001b[0m\u001b[0;34m)\u001b[0m\u001b[0;34m\u001b[0m\u001b[0m\n\u001b[0m\u001b[1;32m      3\u001b[0m \u001b[0;34m\u001b[0m\u001b[0m\n",
        "\u001b[0;31mNameError\u001b[0m: name 'mort' is not defined"
       ]
      }
     ],
     "prompt_number": 12
    },
    {
     "cell_type": "code",
     "collapsed": false,
     "input": [],
     "language": "python",
     "metadata": {},
     "outputs": []
    }
   ],
   "metadata": {}
  }
 ]
}